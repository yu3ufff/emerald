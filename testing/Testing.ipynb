{
 "cells": [
  {
   "cell_type": "code",
   "execution_count": 1,
   "metadata": {},
   "outputs": [],
   "source": [
    "import pandas as pd\n",
    "import numpy as np"
   ]
  },
  {
   "cell_type": "code",
   "execution_count": 2,
   "metadata": {},
   "outputs": [],
   "source": [
    "audi = pd.read_csv('audi.csv')"
   ]
  },
  {
   "cell_type": "code",
   "execution_count": 3,
   "metadata": {},
   "outputs": [
    {
     "data": {
      "text/html": [
       "<div>\n",
       "<style scoped>\n",
       "    .dataframe tbody tr th:only-of-type {\n",
       "        vertical-align: middle;\n",
       "    }\n",
       "\n",
       "    .dataframe tbody tr th {\n",
       "        vertical-align: top;\n",
       "    }\n",
       "\n",
       "    .dataframe thead th {\n",
       "        text-align: right;\n",
       "    }\n",
       "</style>\n",
       "<table border=\"1\" class=\"dataframe\">\n",
       "  <thead>\n",
       "    <tr style=\"text-align: right;\">\n",
       "      <th></th>\n",
       "      <th>model</th>\n",
       "      <th>year</th>\n",
       "      <th>price</th>\n",
       "      <th>transmission</th>\n",
       "      <th>mileage</th>\n",
       "      <th>fuelType</th>\n",
       "      <th>tax</th>\n",
       "      <th>mpg</th>\n",
       "      <th>engineSize</th>\n",
       "    </tr>\n",
       "  </thead>\n",
       "  <tbody>\n",
       "    <tr>\n",
       "      <th>0</th>\n",
       "      <td>A1</td>\n",
       "      <td>2017</td>\n",
       "      <td>12500</td>\n",
       "      <td>Manual</td>\n",
       "      <td>15735</td>\n",
       "      <td>Petrol</td>\n",
       "      <td>150</td>\n",
       "      <td>55.4</td>\n",
       "      <td>1.4</td>\n",
       "    </tr>\n",
       "    <tr>\n",
       "      <th>1</th>\n",
       "      <td>A6</td>\n",
       "      <td>2016</td>\n",
       "      <td>16500</td>\n",
       "      <td>Automatic</td>\n",
       "      <td>36203</td>\n",
       "      <td>Diesel</td>\n",
       "      <td>20</td>\n",
       "      <td>64.2</td>\n",
       "      <td>2.0</td>\n",
       "    </tr>\n",
       "    <tr>\n",
       "      <th>2</th>\n",
       "      <td>A1</td>\n",
       "      <td>2016</td>\n",
       "      <td>11000</td>\n",
       "      <td>Manual</td>\n",
       "      <td>29946</td>\n",
       "      <td>Petrol</td>\n",
       "      <td>30</td>\n",
       "      <td>55.4</td>\n",
       "      <td>1.4</td>\n",
       "    </tr>\n",
       "    <tr>\n",
       "      <th>3</th>\n",
       "      <td>A4</td>\n",
       "      <td>2017</td>\n",
       "      <td>16800</td>\n",
       "      <td>Automatic</td>\n",
       "      <td>25952</td>\n",
       "      <td>Diesel</td>\n",
       "      <td>145</td>\n",
       "      <td>67.3</td>\n",
       "      <td>2.0</td>\n",
       "    </tr>\n",
       "    <tr>\n",
       "      <th>4</th>\n",
       "      <td>A3</td>\n",
       "      <td>2019</td>\n",
       "      <td>17300</td>\n",
       "      <td>Manual</td>\n",
       "      <td>1998</td>\n",
       "      <td>Petrol</td>\n",
       "      <td>145</td>\n",
       "      <td>49.6</td>\n",
       "      <td>1.0</td>\n",
       "    </tr>\n",
       "  </tbody>\n",
       "</table>\n",
       "</div>"
      ],
      "text/plain": [
       "  model  year  price transmission  mileage fuelType  tax   mpg  engineSize\n",
       "0    A1  2017  12500       Manual    15735   Petrol  150  55.4         1.4\n",
       "1    A6  2016  16500    Automatic    36203   Diesel   20  64.2         2.0\n",
       "2    A1  2016  11000       Manual    29946   Petrol   30  55.4         1.4\n",
       "3    A4  2017  16800    Automatic    25952   Diesel  145  67.3         2.0\n",
       "4    A3  2019  17300       Manual     1998   Petrol  145  49.6         1.0"
      ]
     },
     "execution_count": 3,
     "metadata": {},
     "output_type": "execute_result"
    }
   ],
   "source": [
    "audi.head()"
   ]
  },
  {
   "cell_type": "code",
   "execution_count": 191,
   "metadata": {},
   "outputs": [
    {
     "name": "stdout",
     "output_type": "stream",
     "text": [
      "<class 'pandas.core.frame.DataFrame'>\n",
      "RangeIndex: 10668 entries, 0 to 10667\n",
      "Data columns (total 9 columns):\n",
      " #   Column        Non-Null Count  Dtype  \n",
      "---  ------        --------------  -----  \n",
      " 0   model         10668 non-null  object \n",
      " 1   year          10668 non-null  int64  \n",
      " 2   price         10668 non-null  int64  \n",
      " 3   transmission  10668 non-null  object \n",
      " 4   mileage       10668 non-null  int64  \n",
      " 5   fuelType      10668 non-null  object \n",
      " 6   tax           10668 non-null  int64  \n",
      " 7   mpg           10668 non-null  float64\n",
      " 8   engineSize    10668 non-null  float64\n",
      "dtypes: float64(2), int64(4), object(3)\n",
      "memory usage: 750.2+ KB\n"
     ]
    }
   ],
   "source": [
    "data.info()"
   ]
  },
  {
   "cell_type": "code",
   "execution_count": 145,
   "metadata": {},
   "outputs": [
    {
     "data": {
      "text/html": [
       "<div>\n",
       "<style scoped>\n",
       "    .dataframe tbody tr th:only-of-type {\n",
       "        vertical-align: middle;\n",
       "    }\n",
       "\n",
       "    .dataframe tbody tr th {\n",
       "        vertical-align: top;\n",
       "    }\n",
       "\n",
       "    .dataframe thead th {\n",
       "        text-align: right;\n",
       "    }\n",
       "</style>\n",
       "<table border=\"1\" class=\"dataframe\">\n",
       "  <thead>\n",
       "    <tr style=\"text-align: right;\">\n",
       "      <th></th>\n",
       "      <th>year</th>\n",
       "      <th>price</th>\n",
       "      <th>mileage</th>\n",
       "      <th>tax</th>\n",
       "      <th>mpg</th>\n",
       "      <th>engineSize</th>\n",
       "    </tr>\n",
       "  </thead>\n",
       "  <tbody>\n",
       "    <tr>\n",
       "      <th>count</th>\n",
       "      <td>10668.000000</td>\n",
       "      <td>10668.000000</td>\n",
       "      <td>10668.000000</td>\n",
       "      <td>10668.000000</td>\n",
       "      <td>10668.000000</td>\n",
       "      <td>10668.000000</td>\n",
       "    </tr>\n",
       "    <tr>\n",
       "      <th>mean</th>\n",
       "      <td>2017.100675</td>\n",
       "      <td>22896.685039</td>\n",
       "      <td>24827.244001</td>\n",
       "      <td>126.011436</td>\n",
       "      <td>50.770022</td>\n",
       "      <td>1.930709</td>\n",
       "    </tr>\n",
       "    <tr>\n",
       "      <th>std</th>\n",
       "      <td>2.167494</td>\n",
       "      <td>11714.841888</td>\n",
       "      <td>23505.257205</td>\n",
       "      <td>67.170294</td>\n",
       "      <td>12.949782</td>\n",
       "      <td>0.602957</td>\n",
       "    </tr>\n",
       "    <tr>\n",
       "      <th>min</th>\n",
       "      <td>1997.000000</td>\n",
       "      <td>1490.000000</td>\n",
       "      <td>1.000000</td>\n",
       "      <td>0.000000</td>\n",
       "      <td>18.900000</td>\n",
       "      <td>0.000000</td>\n",
       "    </tr>\n",
       "    <tr>\n",
       "      <th>25%</th>\n",
       "      <td>2016.000000</td>\n",
       "      <td>15130.750000</td>\n",
       "      <td>5968.750000</td>\n",
       "      <td>125.000000</td>\n",
       "      <td>40.900000</td>\n",
       "      <td>1.500000</td>\n",
       "    </tr>\n",
       "    <tr>\n",
       "      <th>50%</th>\n",
       "      <td>2017.000000</td>\n",
       "      <td>20200.000000</td>\n",
       "      <td>19000.000000</td>\n",
       "      <td>145.000000</td>\n",
       "      <td>49.600000</td>\n",
       "      <td>2.000000</td>\n",
       "    </tr>\n",
       "    <tr>\n",
       "      <th>75%</th>\n",
       "      <td>2019.000000</td>\n",
       "      <td>27990.000000</td>\n",
       "      <td>36464.500000</td>\n",
       "      <td>145.000000</td>\n",
       "      <td>58.900000</td>\n",
       "      <td>2.000000</td>\n",
       "    </tr>\n",
       "    <tr>\n",
       "      <th>max</th>\n",
       "      <td>2020.000000</td>\n",
       "      <td>145000.000000</td>\n",
       "      <td>323000.000000</td>\n",
       "      <td>580.000000</td>\n",
       "      <td>188.300000</td>\n",
       "      <td>6.300000</td>\n",
       "    </tr>\n",
       "  </tbody>\n",
       "</table>\n",
       "</div>"
      ],
      "text/plain": [
       "               year          price        mileage           tax           mpg  \\\n",
       "count  10668.000000   10668.000000   10668.000000  10668.000000  10668.000000   \n",
       "mean    2017.100675   22896.685039   24827.244001    126.011436     50.770022   \n",
       "std        2.167494   11714.841888   23505.257205     67.170294     12.949782   \n",
       "min     1997.000000    1490.000000       1.000000      0.000000     18.900000   \n",
       "25%     2016.000000   15130.750000    5968.750000    125.000000     40.900000   \n",
       "50%     2017.000000   20200.000000   19000.000000    145.000000     49.600000   \n",
       "75%     2019.000000   27990.000000   36464.500000    145.000000     58.900000   \n",
       "max     2020.000000  145000.000000  323000.000000    580.000000    188.300000   \n",
       "\n",
       "         engineSize  \n",
       "count  10668.000000  \n",
       "mean       1.930709  \n",
       "std        0.602957  \n",
       "min        0.000000  \n",
       "25%        1.500000  \n",
       "50%        2.000000  \n",
       "75%        2.000000  \n",
       "max        6.300000  "
      ]
     },
     "execution_count": 145,
     "metadata": {},
     "output_type": "execute_result"
    }
   ],
   "source": [
    "audi.describe()"
   ]
  },
  {
   "cell_type": "code",
   "execution_count": 47,
   "metadata": {},
   "outputs": [
    {
     "data": {
      "text/plain": [
       " A3     1929\n",
       " Q3     1417\n",
       " A4     1381\n",
       " A1     1347\n",
       " A5      882\n",
       " Q5      877\n",
       " Q2      822\n",
       " A6      748\n",
       " Q7      397\n",
       " TT      336\n",
       " A7      122\n",
       " A8      118\n",
       " Q8       69\n",
       " RS6      39\n",
       " RS3      33\n",
       " RS4      31\n",
       " RS5      29\n",
       " R8       28\n",
       " S3       18\n",
       " SQ5      16\n",
       " S4       12\n",
       " SQ7       8\n",
       " S8        4\n",
       " S5        3\n",
       " A2        1\n",
       " RS7       1\n",
       "Name: model, dtype: int64"
      ]
     },
     "execution_count": 47,
     "metadata": {},
     "output_type": "execute_result"
    }
   ],
   "source": [
    "audi.model.value_counts()"
   ]
  },
  {
   "cell_type": "code",
   "execution_count": 156,
   "metadata": {},
   "outputs": [],
   "source": [
    "audi_dums = pd.get_dummies(audi, columns=['model', 'transmission', 'fuelType'], drop_first=True)"
   ]
  },
  {
   "cell_type": "code",
   "execution_count": 81,
   "metadata": {},
   "outputs": [],
   "source": [
    "audi_dums.drop(columns=['model'], inplace=True)"
   ]
  },
  {
   "cell_type": "code",
   "execution_count": 173,
   "metadata": {},
   "outputs": [],
   "source": []
  },
  {
   "cell_type": "code",
   "execution_count": 174,
   "metadata": {},
   "outputs": [],
   "source": [
    "# note: change to only scale X and not y (price)\n",
    "rscaler = RobustScaler()\n",
    "rscaled_audi = rscaler.fit_transform(audi_dums)\n",
    "rscaled_audi = pd.DataFrame(rscaled_audi, columns=audi_dums.columns)"
   ]
  },
  {
   "cell_type": "code",
   "execution_count": 291,
   "metadata": {},
   "outputs": [],
   "source": [
    "from sklearn.model_selection import train_test_split\n",
    "from sklearn.model_selection import StratifiedShuffleSplit"
   ]
  },
  {
   "cell_type": "code",
   "execution_count": 199,
   "metadata": {},
   "outputs": [
    {
     "data": {
      "text/plain": [
       "False"
      ]
     },
     "execution_count": 199,
     "metadata": {},
     "output_type": "execute_result"
    }
   ],
   "source": [
    "audi.dtypes['model'] == 'float'"
   ]
  },
  {
   "cell_type": "code",
   "execution_count": 202,
   "metadata": {},
   "outputs": [
    {
     "data": {
      "text/plain": [
       "{'Diesel', 'Hybrid', 'Petrol'}"
      ]
     },
     "execution_count": 202,
     "metadata": {},
     "output_type": "execute_result"
    }
   ],
   "source": [
    "set(audi['fuelType'].unique())"
   ]
  },
  {
   "cell_type": "code",
   "execution_count": 208,
   "metadata": {},
   "outputs": [
    {
     "name": "stdout",
     "output_type": "stream",
     "text": [
      "0\n"
     ]
    }
   ],
   "source": [
    "ex = [i for i in range(10) if i == -1]\n",
    "if ex:\n",
    "    print(3)\n",
    "else:\n",
    "    print(0)"
   ]
  },
  {
   "cell_type": "code",
   "execution_count": 844,
   "metadata": {},
   "outputs": [],
   "source": [
    "def prepare(data, target, test_size=0.2, random_state=None, stratified=False, n_splits=1):\n",
    "        data = data.copy()\n",
    "\n",
    "        # organizing the features into categories\n",
    "        # numericals = [col for col in data.columns if (data.dtypes[col] == 'int' or data.dtypes[col] == 'float') and set(data[col].unique()) != {0, 1}]\n",
    "        categoricals = [col for col in data.columns if data.dtypes[col] != 'int' or set(data[col].unique()) == {0, 1}]\n",
    "        # numbers = [col for col in data.columns if data.dtypes[col] == 'int' or data.dtypes[col] == 'float']\n",
    "        non_numbers = [col for col in data.columns if data.dtypes[col] != 'int' and data.dtypes[col] != 'float']\n",
    "        \n",
    "        if target in categoricals:\n",
    "            raise ValueError('Please enter a continuous variable as a target.')\n",
    "        \n",
    "        # impute missing data\n",
    "        \n",
    "        \n",
    "        # creating dummies if needed\n",
    "        if non_numbers:\n",
    "            data = pd.get_dummies(data, columns=non_numbers, drop_first=True)\n",
    "            \n",
    "        # separating the predictors and the target\n",
    "        predictors = list(data.columns)\n",
    "        predictors.remove(target)\n",
    "        \n",
    "        # creating the train and test sets\n",
    "        if stratified:\n",
    "            # use pd.cut to split target into groups\n",
    "            target_col = data[target]\n",
    "            data['target_cat'] = pd.cut(target_col, \n",
    "                                        bins=[target_col.min(), target_col.quantile(0.25), target_col.median(), target_col.quantile(0.75), target_col.max()], \n",
    "                                        include_lowest=True)\n",
    "            \n",
    "            splitter = StratifiedShuffleSplit(n_splits=n_splits, test_size=test_size, random_state=random_state)\n",
    "            for train_index, test_index in splitter.split(data, data['target_cat']):\n",
    "                strat_train_set = data.loc[train_index]\n",
    "                strat_test_set = data.loc[test_index]\n",
    "                \n",
    "            # for observation:\n",
    "            print(data['target_cat'].value_counts() / len(data)) \n",
    "            print(strat_test_set['target_cat'].value_counts() / len(strat_test_set)) \n",
    "                \n",
    "            # drop categorical feature for target\n",
    "            for set_ in (strat_train_set, strat_test_set):\n",
    "                set_.drop('target_cat', axis=1, inplace=True)\n",
    "                \n",
    "            # finish splitting sets\n",
    "            X_train = strat_train_set[predictors]\n",
    "            X_test = strat_test_set[predictors]\n",
    "            y_train = pd.DataFrame(np.c_[strat_train_set[target]], columns=[target])\n",
    "            y_test = pd.DataFrame(np.c_[strat_test_set[target]], columns=[target])\n",
    "        else:\n",
    "            X = data[predictors]\n",
    "            y = pd.DataFrame(np.c_[data[target]], columns=[target])\n",
    "            X_train, X_test, y_train, y_test = train_test_split(X, y, test_size=test_size, random_state=random_state)\n",
    "            \n",
    "\n",
    "        return X_train, X_test, y_train, y_test"
   ]
  },
  {
   "cell_type": "code",
   "execution_count": 845,
   "metadata": {},
   "outputs": [],
   "source": [
    "X_train, X_test, y_train, y_test = prepare(audi, 'price', random_state=3, stratified=False)"
   ]
  },
  {
   "cell_type": "code",
   "execution_count": 855,
   "metadata": {},
   "outputs": [
    {
     "data": {
      "text/html": [
       "<div>\n",
       "<style scoped>\n",
       "    .dataframe tbody tr th:only-of-type {\n",
       "        vertical-align: middle;\n",
       "    }\n",
       "\n",
       "    .dataframe tbody tr th {\n",
       "        vertical-align: top;\n",
       "    }\n",
       "\n",
       "    .dataframe thead th {\n",
       "        text-align: right;\n",
       "    }\n",
       "</style>\n",
       "<table border=\"1\" class=\"dataframe\">\n",
       "  <thead>\n",
       "    <tr style=\"text-align: right;\">\n",
       "      <th></th>\n",
       "      <th>price</th>\n",
       "    </tr>\n",
       "  </thead>\n",
       "  <tbody>\n",
       "    <tr>\n",
       "      <th>4201</th>\n",
       "      <td>28000</td>\n",
       "    </tr>\n",
       "    <tr>\n",
       "      <th>10650</th>\n",
       "      <td>6995</td>\n",
       "    </tr>\n",
       "    <tr>\n",
       "      <th>7326</th>\n",
       "      <td>35490</td>\n",
       "    </tr>\n",
       "    <tr>\n",
       "      <th>10501</th>\n",
       "      <td>12999</td>\n",
       "    </tr>\n",
       "    <tr>\n",
       "      <th>6565</th>\n",
       "      <td>22400</td>\n",
       "    </tr>\n",
       "    <tr>\n",
       "      <th>...</th>\n",
       "      <td>...</td>\n",
       "    </tr>\n",
       "    <tr>\n",
       "      <th>5390</th>\n",
       "      <td>23766</td>\n",
       "    </tr>\n",
       "    <tr>\n",
       "      <th>5181</th>\n",
       "      <td>13141</td>\n",
       "    </tr>\n",
       "    <tr>\n",
       "      <th>4843</th>\n",
       "      <td>31490</td>\n",
       "    </tr>\n",
       "    <tr>\n",
       "      <th>2034</th>\n",
       "      <td>31998</td>\n",
       "    </tr>\n",
       "    <tr>\n",
       "      <th>4484</th>\n",
       "      <td>22990</td>\n",
       "    </tr>\n",
       "  </tbody>\n",
       "</table>\n",
       "<p>2134 rows × 1 columns</p>\n",
       "</div>"
      ],
      "text/plain": [
       "       price\n",
       "4201   28000\n",
       "10650   6995\n",
       "7326   35490\n",
       "10501  12999\n",
       "6565   22400\n",
       "...      ...\n",
       "5390   23766\n",
       "5181   13141\n",
       "4843   31490\n",
       "2034   31998\n",
       "4484   22990\n",
       "\n",
       "[2134 rows x 1 columns]"
      ]
     },
     "execution_count": 855,
     "metadata": {},
     "output_type": "execute_result"
    }
   ],
   "source": [
    "y_test"
   ]
  },
  {
   "cell_type": "code",
   "execution_count": 438,
   "metadata": {},
   "outputs": [],
   "source": [
    "import statsmodels.api as sm\n",
    "\n",
    "X1 = sm.add_constant(X_train)\n",
    "ols = sm.OLS(y_train, X1)\n",
    "lr = ols.fit()"
   ]
  },
  {
   "cell_type": "code",
   "execution_count": 439,
   "metadata": {},
   "outputs": [
    {
     "data": {
      "text/plain": [
       "const                      0.000000e+00\n",
       "year                       0.000000e+00\n",
       "mileage                   6.006501e-144\n",
       "tax                       5.431224e-205\n",
       "mpg                        0.000000e+00\n",
       "engineSize                8.573097e-216\n",
       "model_ A2                  1.145682e-18\n",
       "model_ A3                  3.309723e-17\n",
       "model_ A4                  3.209425e-20\n",
       "model_ A5                  1.335164e-48\n",
       "model_ A6                  1.522958e-53\n",
       "model_ A7                  4.997917e-28\n",
       "model_ A8                  3.973269e-68\n",
       "model_ Q2                  2.377118e-12\n",
       "model_ Q3                  3.419262e-58\n",
       "model_ Q5                 8.440137e-180\n",
       "model_ Q7                  0.000000e+00\n",
       "model_ Q8                  0.000000e+00\n",
       "model_ R8                  0.000000e+00\n",
       "model_ RS3                 6.430664e-45\n",
       "model_ RS4                2.555538e-140\n",
       "model_ RS5                4.643141e-119\n",
       "model_ RS6                2.825508e-226\n",
       "model_ RS7                 5.616247e-07\n",
       "model_ S3                  3.920778e-04\n",
       "model_ S4                  1.458504e-10\n",
       "model_ S5                  3.887544e-01\n",
       "model_ S8                  2.066284e-01\n",
       "model_ SQ5                 7.376447e-16\n",
       "model_ SQ7                 8.636578e-45\n",
       "model_ TT                  2.661789e-43\n",
       "transmission_Manual        7.872930e-37\n",
       "transmission_Semi-Auto     1.294167e-01\n",
       "fuelType_Hybrid           9.560688e-199\n",
       "fuelType_Petrol            4.059097e-10\n",
       "Name: P>|t|, dtype: float64"
      ]
     },
     "execution_count": 439,
     "metadata": {},
     "output_type": "execute_result"
    }
   ],
   "source": [
    "lr.summary2().tables[1]['P>|t|']"
   ]
  },
  {
   "cell_type": "code",
   "execution_count": 440,
   "metadata": {},
   "outputs": [
    {
     "data": {
      "text/plain": [
       "['year',\n",
       " 'mileage',\n",
       " 'tax',\n",
       " 'mpg',\n",
       " 'engineSize',\n",
       " 'model_ A2',\n",
       " 'model_ A3',\n",
       " 'model_ A4',\n",
       " 'model_ A5',\n",
       " 'model_ A6',\n",
       " 'model_ A7',\n",
       " 'model_ A8',\n",
       " 'model_ Q2',\n",
       " 'model_ Q3',\n",
       " 'model_ Q5',\n",
       " 'model_ Q7',\n",
       " 'model_ Q8',\n",
       " 'model_ R8',\n",
       " 'model_ RS3',\n",
       " 'model_ RS4',\n",
       " 'model_ RS5',\n",
       " 'model_ RS6',\n",
       " 'model_ RS7',\n",
       " 'model_ S3',\n",
       " 'model_ S4',\n",
       " 'model_ SQ5',\n",
       " 'model_ SQ7',\n",
       " 'model_ TT',\n",
       " 'transmission_Manual',\n",
       " 'fuelType_Hybrid',\n",
       " 'fuelType_Petrol']"
      ]
     },
     "execution_count": 440,
     "metadata": {},
     "output_type": "execute_result"
    }
   ],
   "source": [
    "selected_features = [col for col in X_train.columns if lr.summary2().tables[1]['P>|t|'][col] <= 0.05]\n",
    "selected_features"
   ]
  },
  {
   "cell_type": "code",
   "execution_count": 441,
   "metadata": {},
   "outputs": [
    {
     "data": {
      "text/html": [
       "<div>\n",
       "<style scoped>\n",
       "    .dataframe tbody tr th:only-of-type {\n",
       "        vertical-align: middle;\n",
       "    }\n",
       "\n",
       "    .dataframe tbody tr th {\n",
       "        vertical-align: top;\n",
       "    }\n",
       "\n",
       "    .dataframe thead th {\n",
       "        text-align: right;\n",
       "    }\n",
       "</style>\n",
       "<table border=\"1\" class=\"dataframe\">\n",
       "  <thead>\n",
       "    <tr style=\"text-align: right;\">\n",
       "      <th></th>\n",
       "      <th>year</th>\n",
       "      <th>mileage</th>\n",
       "      <th>tax</th>\n",
       "      <th>mpg</th>\n",
       "      <th>engineSize</th>\n",
       "      <th>model_ A2</th>\n",
       "      <th>model_ A3</th>\n",
       "      <th>model_ A4</th>\n",
       "      <th>model_ A5</th>\n",
       "      <th>model_ A6</th>\n",
       "      <th>...</th>\n",
       "      <th>model_ RS6</th>\n",
       "      <th>model_ RS7</th>\n",
       "      <th>model_ S3</th>\n",
       "      <th>model_ S4</th>\n",
       "      <th>model_ SQ5</th>\n",
       "      <th>model_ SQ7</th>\n",
       "      <th>model_ TT</th>\n",
       "      <th>transmission_Manual</th>\n",
       "      <th>fuelType_Hybrid</th>\n",
       "      <th>fuelType_Petrol</th>\n",
       "    </tr>\n",
       "  </thead>\n",
       "  <tbody>\n",
       "    <tr>\n",
       "      <th>2601</th>\n",
       "      <td>2015</td>\n",
       "      <td>46784</td>\n",
       "      <td>145</td>\n",
       "      <td>52.3</td>\n",
       "      <td>2.0</td>\n",
       "      <td>0</td>\n",
       "      <td>0</td>\n",
       "      <td>0</td>\n",
       "      <td>0</td>\n",
       "      <td>0</td>\n",
       "      <td>...</td>\n",
       "      <td>0</td>\n",
       "      <td>0</td>\n",
       "      <td>0</td>\n",
       "      <td>0</td>\n",
       "      <td>0</td>\n",
       "      <td>0</td>\n",
       "      <td>0</td>\n",
       "      <td>1</td>\n",
       "      <td>0</td>\n",
       "      <td>0</td>\n",
       "    </tr>\n",
       "    <tr>\n",
       "      <th>9532</th>\n",
       "      <td>2016</td>\n",
       "      <td>12900</td>\n",
       "      <td>0</td>\n",
       "      <td>67.3</td>\n",
       "      <td>1.0</td>\n",
       "      <td>0</td>\n",
       "      <td>0</td>\n",
       "      <td>0</td>\n",
       "      <td>0</td>\n",
       "      <td>0</td>\n",
       "      <td>...</td>\n",
       "      <td>0</td>\n",
       "      <td>0</td>\n",
       "      <td>0</td>\n",
       "      <td>0</td>\n",
       "      <td>0</td>\n",
       "      <td>0</td>\n",
       "      <td>0</td>\n",
       "      <td>1</td>\n",
       "      <td>0</td>\n",
       "      <td>1</td>\n",
       "    </tr>\n",
       "    <tr>\n",
       "      <th>1541</th>\n",
       "      <td>2019</td>\n",
       "      <td>5304</td>\n",
       "      <td>145</td>\n",
       "      <td>40.9</td>\n",
       "      <td>2.0</td>\n",
       "      <td>0</td>\n",
       "      <td>0</td>\n",
       "      <td>0</td>\n",
       "      <td>0</td>\n",
       "      <td>0</td>\n",
       "      <td>...</td>\n",
       "      <td>0</td>\n",
       "      <td>0</td>\n",
       "      <td>0</td>\n",
       "      <td>0</td>\n",
       "      <td>0</td>\n",
       "      <td>0</td>\n",
       "      <td>0</td>\n",
       "      <td>0</td>\n",
       "      <td>0</td>\n",
       "      <td>1</td>\n",
       "    </tr>\n",
       "    <tr>\n",
       "      <th>6226</th>\n",
       "      <td>2019</td>\n",
       "      <td>6857</td>\n",
       "      <td>145</td>\n",
       "      <td>51.4</td>\n",
       "      <td>1.6</td>\n",
       "      <td>0</td>\n",
       "      <td>1</td>\n",
       "      <td>0</td>\n",
       "      <td>0</td>\n",
       "      <td>0</td>\n",
       "      <td>...</td>\n",
       "      <td>0</td>\n",
       "      <td>0</td>\n",
       "      <td>0</td>\n",
       "      <td>0</td>\n",
       "      <td>0</td>\n",
       "      <td>0</td>\n",
       "      <td>0</td>\n",
       "      <td>1</td>\n",
       "      <td>0</td>\n",
       "      <td>0</td>\n",
       "    </tr>\n",
       "    <tr>\n",
       "      <th>8544</th>\n",
       "      <td>2015</td>\n",
       "      <td>36196</td>\n",
       "      <td>0</td>\n",
       "      <td>80.7</td>\n",
       "      <td>1.6</td>\n",
       "      <td>0</td>\n",
       "      <td>0</td>\n",
       "      <td>0</td>\n",
       "      <td>0</td>\n",
       "      <td>0</td>\n",
       "      <td>...</td>\n",
       "      <td>0</td>\n",
       "      <td>0</td>\n",
       "      <td>0</td>\n",
       "      <td>0</td>\n",
       "      <td>0</td>\n",
       "      <td>0</td>\n",
       "      <td>0</td>\n",
       "      <td>1</td>\n",
       "      <td>0</td>\n",
       "      <td>0</td>\n",
       "    </tr>\n",
       "    <tr>\n",
       "      <th>...</th>\n",
       "      <td>...</td>\n",
       "      <td>...</td>\n",
       "      <td>...</td>\n",
       "      <td>...</td>\n",
       "      <td>...</td>\n",
       "      <td>...</td>\n",
       "      <td>...</td>\n",
       "      <td>...</td>\n",
       "      <td>...</td>\n",
       "      <td>...</td>\n",
       "      <td>...</td>\n",
       "      <td>...</td>\n",
       "      <td>...</td>\n",
       "      <td>...</td>\n",
       "      <td>...</td>\n",
       "      <td>...</td>\n",
       "      <td>...</td>\n",
       "      <td>...</td>\n",
       "      <td>...</td>\n",
       "      <td>...</td>\n",
       "      <td>...</td>\n",
       "    </tr>\n",
       "    <tr>\n",
       "      <th>6400</th>\n",
       "      <td>2019</td>\n",
       "      <td>6159</td>\n",
       "      <td>145</td>\n",
       "      <td>52.3</td>\n",
       "      <td>1.6</td>\n",
       "      <td>0</td>\n",
       "      <td>1</td>\n",
       "      <td>0</td>\n",
       "      <td>0</td>\n",
       "      <td>0</td>\n",
       "      <td>...</td>\n",
       "      <td>0</td>\n",
       "      <td>0</td>\n",
       "      <td>0</td>\n",
       "      <td>0</td>\n",
       "      <td>0</td>\n",
       "      <td>0</td>\n",
       "      <td>0</td>\n",
       "      <td>0</td>\n",
       "      <td>0</td>\n",
       "      <td>0</td>\n",
       "    </tr>\n",
       "    <tr>\n",
       "      <th>9160</th>\n",
       "      <td>2017</td>\n",
       "      <td>25249</td>\n",
       "      <td>145</td>\n",
       "      <td>67.3</td>\n",
       "      <td>1.0</td>\n",
       "      <td>0</td>\n",
       "      <td>0</td>\n",
       "      <td>0</td>\n",
       "      <td>0</td>\n",
       "      <td>0</td>\n",
       "      <td>...</td>\n",
       "      <td>0</td>\n",
       "      <td>0</td>\n",
       "      <td>0</td>\n",
       "      <td>0</td>\n",
       "      <td>0</td>\n",
       "      <td>0</td>\n",
       "      <td>0</td>\n",
       "      <td>1</td>\n",
       "      <td>0</td>\n",
       "      <td>1</td>\n",
       "    </tr>\n",
       "    <tr>\n",
       "      <th>9859</th>\n",
       "      <td>2013</td>\n",
       "      <td>51535</td>\n",
       "      <td>20</td>\n",
       "      <td>68.9</td>\n",
       "      <td>1.6</td>\n",
       "      <td>0</td>\n",
       "      <td>1</td>\n",
       "      <td>0</td>\n",
       "      <td>0</td>\n",
       "      <td>0</td>\n",
       "      <td>...</td>\n",
       "      <td>0</td>\n",
       "      <td>0</td>\n",
       "      <td>0</td>\n",
       "      <td>0</td>\n",
       "      <td>0</td>\n",
       "      <td>0</td>\n",
       "      <td>0</td>\n",
       "      <td>1</td>\n",
       "      <td>0</td>\n",
       "      <td>0</td>\n",
       "    </tr>\n",
       "    <tr>\n",
       "      <th>1688</th>\n",
       "      <td>2015</td>\n",
       "      <td>52539</td>\n",
       "      <td>30</td>\n",
       "      <td>55.4</td>\n",
       "      <td>1.4</td>\n",
       "      <td>0</td>\n",
       "      <td>0</td>\n",
       "      <td>0</td>\n",
       "      <td>0</td>\n",
       "      <td>0</td>\n",
       "      <td>...</td>\n",
       "      <td>0</td>\n",
       "      <td>0</td>\n",
       "      <td>0</td>\n",
       "      <td>0</td>\n",
       "      <td>0</td>\n",
       "      <td>0</td>\n",
       "      <td>0</td>\n",
       "      <td>1</td>\n",
       "      <td>0</td>\n",
       "      <td>1</td>\n",
       "    </tr>\n",
       "    <tr>\n",
       "      <th>5994</th>\n",
       "      <td>2017</td>\n",
       "      <td>16235</td>\n",
       "      <td>145</td>\n",
       "      <td>54.3</td>\n",
       "      <td>1.4</td>\n",
       "      <td>0</td>\n",
       "      <td>0</td>\n",
       "      <td>0</td>\n",
       "      <td>0</td>\n",
       "      <td>0</td>\n",
       "      <td>...</td>\n",
       "      <td>0</td>\n",
       "      <td>0</td>\n",
       "      <td>0</td>\n",
       "      <td>0</td>\n",
       "      <td>0</td>\n",
       "      <td>0</td>\n",
       "      <td>0</td>\n",
       "      <td>0</td>\n",
       "      <td>0</td>\n",
       "      <td>1</td>\n",
       "    </tr>\n",
       "  </tbody>\n",
       "</table>\n",
       "<p>8534 rows × 31 columns</p>\n",
       "</div>"
      ],
      "text/plain": [
       "      year  mileage  tax   mpg  engineSize  model_ A2  model_ A3  model_ A4  \\\n",
       "2601  2015    46784  145  52.3         2.0          0          0          0   \n",
       "9532  2016    12900    0  67.3         1.0          0          0          0   \n",
       "1541  2019     5304  145  40.9         2.0          0          0          0   \n",
       "6226  2019     6857  145  51.4         1.6          0          1          0   \n",
       "8544  2015    36196    0  80.7         1.6          0          0          0   \n",
       "...    ...      ...  ...   ...         ...        ...        ...        ...   \n",
       "6400  2019     6159  145  52.3         1.6          0          1          0   \n",
       "9160  2017    25249  145  67.3         1.0          0          0          0   \n",
       "9859  2013    51535   20  68.9         1.6          0          1          0   \n",
       "1688  2015    52539   30  55.4         1.4          0          0          0   \n",
       "5994  2017    16235  145  54.3         1.4          0          0          0   \n",
       "\n",
       "      model_ A5  model_ A6  ...  model_ RS6  model_ RS7  model_ S3  model_ S4  \\\n",
       "2601          0          0  ...           0           0          0          0   \n",
       "9532          0          0  ...           0           0          0          0   \n",
       "1541          0          0  ...           0           0          0          0   \n",
       "6226          0          0  ...           0           0          0          0   \n",
       "8544          0          0  ...           0           0          0          0   \n",
       "...         ...        ...  ...         ...         ...        ...        ...   \n",
       "6400          0          0  ...           0           0          0          0   \n",
       "9160          0          0  ...           0           0          0          0   \n",
       "9859          0          0  ...           0           0          0          0   \n",
       "1688          0          0  ...           0           0          0          0   \n",
       "5994          0          0  ...           0           0          0          0   \n",
       "\n",
       "      model_ SQ5  model_ SQ7  model_ TT  transmission_Manual  fuelType_Hybrid  \\\n",
       "2601           0           0          0                    1                0   \n",
       "9532           0           0          0                    1                0   \n",
       "1541           0           0          0                    0                0   \n",
       "6226           0           0          0                    1                0   \n",
       "8544           0           0          0                    1                0   \n",
       "...          ...         ...        ...                  ...              ...   \n",
       "6400           0           0          0                    0                0   \n",
       "9160           0           0          0                    1                0   \n",
       "9859           0           0          0                    1                0   \n",
       "1688           0           0          0                    1                0   \n",
       "5994           0           0          0                    0                0   \n",
       "\n",
       "      fuelType_Petrol  \n",
       "2601                0  \n",
       "9532                1  \n",
       "1541                1  \n",
       "6226                0  \n",
       "8544                0  \n",
       "...               ...  \n",
       "6400                0  \n",
       "9160                1  \n",
       "9859                0  \n",
       "1688                1  \n",
       "5994                1  \n",
       "\n",
       "[8534 rows x 31 columns]"
      ]
     },
     "execution_count": 441,
     "metadata": {},
     "output_type": "execute_result"
    }
   ],
   "source": [
    "X_train[selected_features]"
   ]
  },
  {
   "cell_type": "code",
   "execution_count": 365,
   "metadata": {},
   "outputs": [
    {
     "data": {
      "text/html": [
       "<div>\n",
       "<style scoped>\n",
       "    .dataframe tbody tr th:only-of-type {\n",
       "        vertical-align: middle;\n",
       "    }\n",
       "\n",
       "    .dataframe tbody tr th {\n",
       "        vertical-align: top;\n",
       "    }\n",
       "\n",
       "    .dataframe thead th {\n",
       "        text-align: right;\n",
       "    }\n",
       "</style>\n",
       "<table border=\"1\" class=\"dataframe\">\n",
       "  <thead>\n",
       "    <tr style=\"text-align: right;\">\n",
       "      <th></th>\n",
       "      <th>price</th>\n",
       "    </tr>\n",
       "  </thead>\n",
       "  <tbody>\n",
       "    <tr>\n",
       "      <th>2601</th>\n",
       "      <td>15998</td>\n",
       "    </tr>\n",
       "    <tr>\n",
       "      <th>9532</th>\n",
       "      <td>12490</td>\n",
       "    </tr>\n",
       "    <tr>\n",
       "      <th>1541</th>\n",
       "      <td>21790</td>\n",
       "    </tr>\n",
       "    <tr>\n",
       "      <th>6226</th>\n",
       "      <td>23950</td>\n",
       "    </tr>\n",
       "    <tr>\n",
       "      <th>8544</th>\n",
       "      <td>10000</td>\n",
       "    </tr>\n",
       "    <tr>\n",
       "      <th>...</th>\n",
       "      <td>...</td>\n",
       "    </tr>\n",
       "    <tr>\n",
       "      <th>6400</th>\n",
       "      <td>22150</td>\n",
       "    </tr>\n",
       "    <tr>\n",
       "      <th>9160</th>\n",
       "      <td>13490</td>\n",
       "    </tr>\n",
       "    <tr>\n",
       "      <th>9859</th>\n",
       "      <td>8299</td>\n",
       "    </tr>\n",
       "    <tr>\n",
       "      <th>1688</th>\n",
       "      <td>11250</td>\n",
       "    </tr>\n",
       "    <tr>\n",
       "      <th>5994</th>\n",
       "      <td>19400</td>\n",
       "    </tr>\n",
       "  </tbody>\n",
       "</table>\n",
       "<p>8534 rows × 1 columns</p>\n",
       "</div>"
      ],
      "text/plain": [
       "      price\n",
       "2601  15998\n",
       "9532  12490\n",
       "1541  21790\n",
       "6226  23950\n",
       "8544  10000\n",
       "...     ...\n",
       "6400  22150\n",
       "9160  13490\n",
       "9859   8299\n",
       "1688  11250\n",
       "5994  19400\n",
       "\n",
       "[8534 rows x 1 columns]"
      ]
     },
     "execution_count": 365,
     "metadata": {},
     "output_type": "execute_result"
    }
   ],
   "source": [
    "y_train"
   ]
  },
  {
   "cell_type": "code",
   "execution_count": 851,
   "metadata": {},
   "outputs": [
    {
     "data": {
      "text/plain": [
       "0.8879353446048815"
      ]
     },
     "execution_count": 851,
     "metadata": {},
     "output_type": "execute_result"
    }
   ],
   "source": [
    "knn_reg = LinearRegression()\n",
    "knn_reg.fit(X_train, y_train)\n",
    "knn_reg.score(X_test, y_test)"
   ]
  },
  {
   "cell_type": "code",
   "execution_count": 638,
   "metadata": {},
   "outputs": [
    {
     "data": {
      "text/plain": [
       "KNeighborsRegressor(n_neighbors=3, p=1)"
      ]
     },
     "execution_count": 638,
     "metadata": {},
     "output_type": "execute_result"
    }
   ],
   "source": [
    "op_knn = OptimalKNRegressor(3)\n",
    "op_knn.find(data=audi, target='price')"
   ]
  },
  {
   "cell_type": "code",
   "execution_count": 639,
   "metadata": {},
   "outputs": [
    {
     "data": {
      "text/plain": [
       "0.9511411883559433"
      ]
     },
     "execution_count": 639,
     "metadata": {},
     "output_type": "execute_result"
    }
   ],
   "source": [
    "op_knn.score()"
   ]
  },
  {
   "cell_type": "code",
   "execution_count": 640,
   "metadata": {},
   "outputs": [
    {
     "data": {
      "text/plain": [
       "{'n_neighbors': 3, 'p': 1}"
      ]
     },
     "execution_count": 640,
     "metadata": {},
     "output_type": "execute_result"
    }
   ],
   "source": [
    "op_knn.best_params"
   ]
  },
  {
   "cell_type": "code",
   "execution_count": 755,
   "metadata": {},
   "outputs": [
    {
     "data": {
      "text/plain": [
       "DecisionTreeRegressor(max_depth=15, random_state=3)"
      ]
     },
     "execution_count": 755,
     "metadata": {},
     "output_type": "execute_result"
    }
   ],
   "source": [
    "op_tree = OptimalDTreeRegressor(3)\n",
    "op_tree.find(data=audi, target='price')"
   ]
  },
  {
   "cell_type": "code",
   "execution_count": 756,
   "metadata": {},
   "outputs": [
    {
     "data": {
      "text/plain": [
       "0.94945655345777"
      ]
     },
     "execution_count": 756,
     "metadata": {},
     "output_type": "execute_result"
    }
   ],
   "source": [
    "op_tree.score()"
   ]
  },
  {
   "cell_type": "code",
   "execution_count": 759,
   "metadata": {},
   "outputs": [
    {
     "data": {
      "text/plain": [
       "'DecisionTreeRegressor(max_depth=15, random_state=3)'"
      ]
     },
     "execution_count": 759,
     "metadata": {},
     "output_type": "execute_result"
    }
   ],
   "source": [
    "s = str(op_tree.model)\n",
    "s"
   ]
  },
  {
   "cell_type": "code",
   "execution_count": 643,
   "metadata": {},
   "outputs": [
    {
     "data": {
      "text/plain": [
       "LinearRegression()"
      ]
     },
     "execution_count": 643,
     "metadata": {},
     "output_type": "execute_result"
    }
   ],
   "source": [
    "op_lin = OptimalLinearRegression(3)\n",
    "op_lin.find(data=audi, target='price')"
   ]
  },
  {
   "cell_type": "code",
   "execution_count": 644,
   "metadata": {},
   "outputs": [
    {
     "data": {
      "text/plain": [
       "0.8876961846248463"
      ]
     },
     "execution_count": 644,
     "metadata": {},
     "output_type": "execute_result"
    }
   ],
   "source": [
    "op_lin.score()"
   ]
  },
  {
   "cell_type": "code",
   "execution_count": 691,
   "metadata": {},
   "outputs": [
    {
     "data": {
      "text/plain": [
       "LinearRegression()"
      ]
     },
     "execution_count": 691,
     "metadata": {},
     "output_type": "execute_result"
    }
   ],
   "source": [
    "op_lin_b = OptimalLinearRegression(3)\n",
    "op_lin_b.find(data=audi, target='price')"
   ]
  },
  {
   "cell_type": "code",
   "execution_count": 692,
   "metadata": {},
   "outputs": [
    {
     "data": {
      "text/plain": [
       "0.8876961846248463"
      ]
     },
     "execution_count": 692,
     "metadata": {},
     "output_type": "execute_result"
    }
   ],
   "source": [
    "op_lin_b.score()"
   ]
  },
  {
   "cell_type": "code",
   "execution_count": 649,
   "metadata": {},
   "outputs": [
    {
     "name": "stdout",
     "output_type": "stream",
     "text": [
      "Warning: The training set has been updated. Please get the new selected features to use for further training and testing.\n"
     ]
    },
    {
     "data": {
      "text/plain": [
       "LinearRegression()"
      ]
     },
     "execution_count": 649,
     "metadata": {},
     "output_type": "execute_result"
    }
   ],
   "source": [
    "op_lin2 = OptimalLinearRegression(3)\n",
    "op_lin2.find(X_train, y_train)"
   ]
  },
  {
   "cell_type": "code",
   "execution_count": 650,
   "metadata": {},
   "outputs": [],
   "source": [
    "best_lin2_features = op_lin2.best_features"
   ]
  },
  {
   "cell_type": "code",
   "execution_count": 651,
   "metadata": {},
   "outputs": [
    {
     "data": {
      "text/plain": [
       "0.8876961846248463"
      ]
     },
     "execution_count": 651,
     "metadata": {},
     "output_type": "execute_result"
    }
   ],
   "source": [
    "op_lin2.score(X_test[best_lin2_features], y_test)"
   ]
  },
  {
   "cell_type": "code",
   "execution_count": null,
   "metadata": {},
   "outputs": [],
   "source": []
  },
  {
   "cell_type": "code",
   "execution_count": 688,
   "metadata": {},
   "outputs": [
    {
     "data": {
      "text/plain": [
       "LinearSVR(C=1000, epsilon=0.5, random_state=3)"
      ]
     },
     "execution_count": 688,
     "metadata": {},
     "output_type": "execute_result"
    }
   ],
   "source": [
    "op_svr = OptimalLinearSVR(3)\n",
    "op_svr.find(data=audi, target='price')"
   ]
  },
  {
   "cell_type": "code",
   "execution_count": 689,
   "metadata": {},
   "outputs": [
    {
     "data": {
      "text/plain": [
       "0.8382862658830257"
      ]
     },
     "execution_count": 689,
     "metadata": {},
     "output_type": "execute_result"
    }
   ],
   "source": [
    "op_svr.score()"
   ]
  },
  {
   "cell_type": "code",
   "execution_count": 586,
   "metadata": {},
   "outputs": [],
   "source": [
    "op_sgd = OptimalSGDRegressor(3)\n",
    "#op_sgd.find(data=audi, target='price')"
   ]
  },
  {
   "cell_type": "code",
   "execution_count": 584,
   "metadata": {},
   "outputs": [
    {
     "ename": "ValueError",
     "evalue": "There is no model to use for scoring",
     "output_type": "error",
     "traceback": [
      "\u001b[0;31m---------------------------------------------------------------------------\u001b[0m",
      "\u001b[0;31mValueError\u001b[0m                                Traceback (most recent call last)",
      "\u001b[0;32m<ipython-input-584-65d2af53b8a0>\u001b[0m in \u001b[0;36m<module>\u001b[0;34m\u001b[0m\n\u001b[0;32m----> 1\u001b[0;31m \u001b[0mop_sgd\u001b[0m\u001b[0;34m.\u001b[0m\u001b[0mscore\u001b[0m\u001b[0;34m(\u001b[0m\u001b[0;34m)\u001b[0m\u001b[0;34m\u001b[0m\u001b[0;34m\u001b[0m\u001b[0m\n\u001b[0m",
      "\u001b[0;32m<ipython-input-579-8de459f4927b>\u001b[0m in \u001b[0;36mscore\u001b[0;34m(self, X_test, y_test)\u001b[0m\n\u001b[1;32m      3\u001b[0m     \u001b[0;32mdef\u001b[0m \u001b[0mscore\u001b[0m\u001b[0;34m(\u001b[0m\u001b[0mself\u001b[0m\u001b[0;34m,\u001b[0m \u001b[0mX_test\u001b[0m\u001b[0;34m=\u001b[0m\u001b[0;32mNone\u001b[0m\u001b[0;34m,\u001b[0m \u001b[0my_test\u001b[0m\u001b[0;34m=\u001b[0m\u001b[0;32mNone\u001b[0m\u001b[0;34m)\u001b[0m\u001b[0;34m:\u001b[0m\u001b[0;34m\u001b[0m\u001b[0;34m\u001b[0m\u001b[0m\n\u001b[1;32m      4\u001b[0m         \u001b[0;32mif\u001b[0m \u001b[0;32mnot\u001b[0m \u001b[0mself\u001b[0m\u001b[0;34m.\u001b[0m\u001b[0mmodel\u001b[0m\u001b[0;34m:\u001b[0m\u001b[0;34m\u001b[0m\u001b[0;34m\u001b[0m\u001b[0m\n\u001b[0;32m----> 5\u001b[0;31m             \u001b[0;32mraise\u001b[0m \u001b[0mValueError\u001b[0m\u001b[0;34m(\u001b[0m\u001b[0;34m'There is no model to use for scoring'\u001b[0m\u001b[0;34m)\u001b[0m\u001b[0;34m\u001b[0m\u001b[0;34m\u001b[0m\u001b[0m\n\u001b[0m\u001b[1;32m      6\u001b[0m \u001b[0;34m\u001b[0m\u001b[0m\n\u001b[1;32m      7\u001b[0m         \u001b[0;32mif\u001b[0m \u001b[0mself\u001b[0m\u001b[0;34m.\u001b[0m\u001b[0my_test\u001b[0m \u001b[0;32mis\u001b[0m \u001b[0;32mnot\u001b[0m \u001b[0;32mNone\u001b[0m\u001b[0;34m:\u001b[0m\u001b[0;34m\u001b[0m\u001b[0;34m\u001b[0m\u001b[0m\n",
      "\u001b[0;31mValueError\u001b[0m: There is no model to use for scoring"
     ]
    }
   ],
   "source": [
    "op_sgd.score()"
   ]
  },
  {
   "cell_type": "code",
   "execution_count": 657,
   "metadata": {},
   "outputs": [
    {
     "data": {
      "text/plain": [
       "RandomForestRegressor(min_samples_split=5, n_estimators=50, random_state=3)"
      ]
     },
     "execution_count": 657,
     "metadata": {},
     "output_type": "execute_result"
    }
   ],
   "source": [
    "op_forest = OptimalRFRegressor(3)\n",
    "op_forest.find(data=audi, target='price')"
   ]
  },
  {
   "cell_type": "code",
   "execution_count": 658,
   "metadata": {},
   "outputs": [
    {
     "data": {
      "text/plain": [
       "0.9625363422388229"
      ]
     },
     "execution_count": 658,
     "metadata": {},
     "output_type": "execute_result"
    }
   ],
   "source": [
    "op_forest.score()"
   ]
  },
  {
   "cell_type": "code",
   "execution_count": 659,
   "metadata": {},
   "outputs": [
    {
     "data": {
      "text/plain": [
       "{'min_samples_split': 5, 'n_estimators': 50}"
      ]
     },
     "execution_count": 659,
     "metadata": {},
     "output_type": "execute_result"
    }
   ],
   "source": [
    "op_forest.best_params"
   ]
  },
  {
   "cell_type": "code",
   "execution_count": 567,
   "metadata": {},
   "outputs": [],
   "source": [
    "from sklearn.preprocessing import RobustScaler\n",
    "from sklearn.preprocessing import MinMaxScaler\n",
    "\n",
    "from sklearn.tree import DecisionTreeRegressor\n",
    "from sklearn.neighbors import KNeighborsRegressor\n",
    "from sklearn.linear_model import LinearRegression\n",
    "from sklearn.linear_model import SGDRegressor\n",
    "from sklearn.linear_model import ElasticNet\n",
    "from sklearn.svm import LinearSVR\n",
    "\n",
    "from sklearn.ensemble import AdaBoostRegressor\n",
    "from sklearn.ensemble import RandomForestRegressor\n",
    "\n",
    "from sklearn.model_selection import GridSearchCV\n",
    "\n",
    "import statsmodels.api as sm"
   ]
  },
  {
   "cell_type": "code",
   "execution_count": 879,
   "metadata": {},
   "outputs": [],
   "source": [
    "class BaseRegressor:\n",
    "    \n",
    "    def __repr__(self):\n",
    "        return type(self).__name__ # finish implementation!!!\n",
    "    \n",
    "\n",
    "    def score(self, X_test=None, y_test=None):\n",
    "        if not self.model:\n",
    "            raise ValueError('There is no model to use for scoring')\n",
    "\n",
    "        if X_test is not None and y_test is not None:\n",
    "            return self.model.score(X_test, y_test)\n",
    "        elif self.X_test is not None and self.y_test is not None:\n",
    "            return self.model.score(self.X_test, self.y_test)\n",
    "        else:\n",
    "            raise ValueError('No test sets to use for scoring')\n",
    "            \n",
    "\n",
    "    def get_sets(self, save=False):\n",
    "        X_train, X_test, y_train, y_test = self.X_train, self.X_test, self.y_train, self.y_test\n",
    "        if not save:\n",
    "            self.X_train, self.X_test, self.y_train, self.y_test = (None, None, None, None)\n",
    "        return X_train, X_test, y_train, y_test\n",
    "    \n",
    "    \n",
    "    \n",
    "class OptimalDTreeRegressor(BaseRegressor):\n",
    "    def __init__(self, random_state=None):\n",
    "        self.random_state = random_state\n",
    "        self.X_train = None\n",
    "        self.X_test = None\n",
    "        self.y_train = None\n",
    "        self.y_test = None\n",
    "        self.model = None\n",
    "        self.best_params = None\n",
    "\n",
    "    def find(\n",
    "            self,\n",
    "            X_train=None,\n",
    "            y_train=None,\n",
    "            data=None,\n",
    "            target=None,\n",
    "            param_grid=[{'max_depth': [1, 2, 3, 4, 5, 10, 15, 20, 25, 50, 100, 200, None]}]\n",
    "    ):\n",
    "        if isinstance(data, pd.DataFrame) and isinstance(target, str):\n",
    "            X_train, X_test, y_train, y_test = prepare(data, target, random_state=self.random_state)\n",
    "\n",
    "            # save sets\n",
    "            self.X_train = X_train\n",
    "            self.X_test = X_test\n",
    "            self.y_train = y_train\n",
    "            self.y_test = y_test\n",
    "        elif X_train is None or y_train is None:\n",
    "            raise ValueError('Please pass in either your data and target feature or training set and target')\n",
    "        else:\n",
    "            # temporarily save sets\n",
    "            self.X_train = X_train\n",
    "            self.y_train = y_train\n",
    "\n",
    "        grid = GridSearchCV(DecisionTreeRegressor(), param_grid)\n",
    "        grid.fit(self.X_train, self.y_train)\n",
    "\n",
    "        optimal_depth = grid.best_params_['max_depth']\n",
    "\n",
    "        self.model = DecisionTreeRegressor(max_depth=optimal_depth, random_state=self.random_state)\n",
    "        self.model.fit(self.X_train, self.y_train)\n",
    "\n",
    "        self.best_params = grid.best_params_\n",
    "\n",
    "        if self.y_test is None:\n",
    "            self.X_train, self.y_train = (None, None)\n",
    "\n",
    "        return self.model\n",
    "\n",
    "\n",
    "class OptimalKNRegressor(BaseRegressor):\n",
    "    def __init__(self, random_state=None):\n",
    "        self.random_state = random_state\n",
    "        self.X_train = None\n",
    "        self.X_test = None\n",
    "        self.y_train = None\n",
    "        self.y_test = None\n",
    "        self.model = None\n",
    "        self.best_params = None\n",
    "\n",
    "    def find(\n",
    "            self,\n",
    "            X_train=None,\n",
    "            y_train=None,\n",
    "            data=None,\n",
    "            target=None,\n",
    "            param_grid=[{'n_neighbors': [1, 2, 3, 4, 5, 10, 15, 20], 'p': [1, 2]}]\n",
    "    ):\n",
    "        if isinstance(data, pd.DataFrame) and isinstance(target, str):\n",
    "            X_train, X_test, y_train, y_test = prepare(data, target, random_state=self.random_state)\n",
    "\n",
    "            # standardize X_train and X_test\n",
    "            robust_scaler = RobustScaler()\n",
    "            X_train_scaled = robust_scaler.fit_transform(X_train)\n",
    "            X_test_scaled = robust_scaler.fit_transform(X_test)\n",
    "            \n",
    "            # transform arrays back to DataFrame\n",
    "            X_train_scaled = pd.DataFrame(X_train_scaled, columns=X_train.columns)\n",
    "            X_test_scaled = pd.DataFrame(X_test_scaled, columns=X_test.columns)\n",
    "\n",
    "            # save sets\n",
    "            self.X_train = X_train_scaled\n",
    "            self.X_test = X_test_scaled\n",
    "            self.y_train = y_train\n",
    "            self.y_test = y_test\n",
    "        elif X_train is None or y_train is None:\n",
    "            raise ValueError('Please pass in either your data and target feature or training set and target')\n",
    "        else:\n",
    "            # temporarily save sets\n",
    "            self.X_train = X_train\n",
    "            self.y_train = y_train\n",
    "\n",
    "        grid = GridSearchCV(KNeighborsRegressor(), param_grid)\n",
    "        grid.fit(self.X_train, self.y_train)\n",
    "\n",
    "        optimal_neighbors = grid.best_params_['n_neighbors']\n",
    "        optimal_p = grid.best_params_['p']\n",
    "\n",
    "        self.model = KNeighborsRegressor(n_neighbors=optimal_neighbors, p=optimal_p)\n",
    "        self.model.fit(self.X_train, self.y_train)\n",
    "\n",
    "        self.best_params = grid.best_params_\n",
    "\n",
    "        if self.y_test is None:\n",
    "            self.X_train, self.y_train = (None, None)\n",
    "\n",
    "        return self.model\n",
    "\n",
    "\n",
    "class OptimalLinearRegression(BaseRegressor):\n",
    "    def __init__(self, random_state=None):\n",
    "        self.random_state = random_state\n",
    "        self.X_train = None\n",
    "        self.X_test = None\n",
    "        self.y_train = None\n",
    "        self.y_test = None\n",
    "        self.model = None\n",
    "        self.selected_features = None\n",
    "\n",
    "    def find(\n",
    "            self,\n",
    "            X_train=None,\n",
    "            y_train=None,\n",
    "            data=None,\n",
    "            target=None,\n",
    "            alpha=0.05\n",
    "    ):\n",
    "        if isinstance(data, pd.DataFrame) and isinstance(target, str):\n",
    "            X_train, X_test, y_train, y_test = prepare(data, target, random_state=self.random_state)\n",
    "            \n",
    "            # selecting the features with p-values <= alpha\n",
    "            X1_train = sm.add_constant(X_train)\n",
    "            ols = sm.OLS(y_train, X1_train)\n",
    "            lin_reg = ols.fit()\n",
    "\n",
    "            selected_features = [col for col in X_train.columns if lin_reg.summary2().tables[1]['P>|t|'][col] <= alpha]\n",
    "\n",
    "            # updating the sets to only have the selected features\n",
    "            X_train = X_train[selected_features] \n",
    "            X_test = X_test[selected_features] # if X_test is not None else None (idk what this was for)\n",
    "\n",
    "            # save sets\n",
    "            self.X_train = X_train\n",
    "            self.X_test = X_test\n",
    "            self.y_train = y_train\n",
    "            self.y_test = y_test\n",
    "        elif X_train is None or y_train is None:\n",
    "            raise ValueError('Please pass in either your data and target feature or training set and target')\n",
    "        else:\n",
    "            # temporarily save sets\n",
    "            self.X_train = X_train\n",
    "            self.y_train = y_train\n",
    "\n",
    "        self.model = LinearRegression()\n",
    "        self.model.fit(self.X_train, self.y_train)\n",
    "\n",
    "        self.selected_features = selected_features\n",
    "\n",
    "        if self.y_test is None:\n",
    "            self.X_train, self.y_train = (None, None)\n",
    "            # print('Warning: The training set has been updated. Please get the new selected features to use for further training and testing.')\n",
    "\n",
    "        return self.model\n",
    "\n",
    "\n",
    "class OptimalLinearSVR(BaseRegressor):\n",
    "    def __init__(self, random_state=None):\n",
    "        self.random_state = random_state\n",
    "        self.X_train = None\n",
    "        self.X_test = None\n",
    "        self.y_train = None\n",
    "        self.y_test = None\n",
    "        self.model = None\n",
    "        self.best_params = None\n",
    "\n",
    "    def find(\n",
    "            self,\n",
    "            X_train=None,\n",
    "            y_train=None,\n",
    "            data=None,\n",
    "            target=None,\n",
    "            param_grid=[{'C': [0.1, 1., 1.5, 3., 10., 50., 100., 1000.], 'epsilon': [0., 0.01, 0.1, 0.2, 0.3, 0.5]}]\n",
    "    ):\n",
    "        if isinstance(data, pd.DataFrame) and isinstance(target, str):\n",
    "            X_train, X_test, y_train, y_test = prepare(data, target, random_state=self.random_state)\n",
    "\n",
    "            # standardize X_train and X_test\n",
    "            robust_scaler = RobustScaler()\n",
    "            X_train_scaled = robust_scaler.fit_transform(X_train)\n",
    "            X_test_scaled = robust_scaler.fit_transform(X_test)\n",
    "            \n",
    "            # transform arrays back to DataFrame\n",
    "            X_train_scaled = pd.DataFrame(X_train_scaled, columns=X_train.columns)\n",
    "            X_test_scaled = pd.DataFrame(X_test_scaled, columns=X_test.columns)\n",
    "\n",
    "            # save sets\n",
    "            self.X_train = X_train_scaled\n",
    "            self.X_test = X_test_scaled\n",
    "            self.y_train = y_train\n",
    "            self.y_test = y_test\n",
    "        elif X_train is None or y_train is None:\n",
    "            raise ValueError('Please pass in either your data and target feature or training set and target')\n",
    "        else:\n",
    "            # temporarily save sets\n",
    "            self.X_train = X_train\n",
    "            self.y_train = y_train\n",
    "            \n",
    "        grid = GridSearchCV(LinearSVR(), param_grid)\n",
    "        grid.fit(self.X_train, self.y_train.values.ravel())\n",
    "\n",
    "        optimal_C = grid.best_params_['C']\n",
    "        optimal_epsilon = grid.best_params_['epsilon']\n",
    "\n",
    "        self.model = LinearSVR(epsilon=optimal_epsilon, C=optimal_C, random_state=self.random_state)\n",
    "        self.model.fit(self.X_train, self.y_train.values.ravel())\n",
    "\n",
    "        self.best_params = grid.best_params_\n",
    "\n",
    "        if self.y_test is None:\n",
    "            self.X_train, self.y_train = (None, None)\n",
    "\n",
    "        return self.model\n",
    "\n",
    "''' \n",
    "class OptimalSGDRegressor(BaseRegressor):\n",
    "    def __init__(self, random_state=None):\n",
    "        self.random_state = random_state\n",
    "        self.X_train = None\n",
    "        self.X_test = None\n",
    "        self.y_train = None\n",
    "        self.y_test = None\n",
    "        self.model = None\n",
    "        self.best_params = None\n",
    "\n",
    "    def find(\n",
    "            self,\n",
    "            X_train=None,\n",
    "            y_train=None,\n",
    "            data=None,\n",
    "            target=None,\n",
    "            param_grid = {'max_iter': [1, 5, 10, 100, 1000], 'alpha': [0.0001, 0.001, 0.01, 0.1, 1, 10, 100]}\n",
    "    ):\n",
    "        if isinstance(data, pd.DataFrame):\n",
    "            X_train, X_test, y_train, y_test = cut(data, target, random_state=self.random_state)\n",
    "\n",
    "            # standardize X_train and X_test\n",
    "            robust_scaler = RobustScaler()\n",
    "            X_train_scaled = robust_scaler.fit_transform(X_train)\n",
    "            X_test_scaled = robust_scaler.fit_transform(X_test)\n",
    "\n",
    "            # save sets\n",
    "            self.X_train = X_train_scaled\n",
    "            self.X_test = X_test_scaled\n",
    "            self.y_train = y_train\n",
    "            self.y_test = y_test\n",
    "        elif X_train is None or y_train is None:\n",
    "            raise ValueError('Please pass in some data')\n",
    "        else:\n",
    "            # temporarily save sets\n",
    "            self.X_train = X_train\n",
    "            self.y_train = y_train\n",
    "            \n",
    "        grid = GridSearchCV(ElasticNet(), param_grid)\n",
    "        grid.fit(self.X_train, self.y_train.values.ravel())\n",
    "\n",
    "        optimal_iter = grid.best_params_['max_iter']\n",
    "        optimal_alpha = grid.best_params_['alpha']\n",
    "        #optimal_penalty = grid.best_params_['penalty']\n",
    "\n",
    "        self.model = ElasticNet(max_iter=optimal_iter, alpha=optimal_alpha, tol=0.01, random_state=self.random_state)\n",
    "        self.model.fit(self.X_train, self.y_train)\n",
    "\n",
    "        self.best_params = grid.best_params_\n",
    "\n",
    "        if self.y_test is None:\n",
    "            self.X_train, self.y_train = (None, None)\n",
    "\n",
    "        return self.model    \n",
    "'''\n",
    "    \n",
    "\n",
    "    # Ensemble Methods\n",
    "class OptimalRFRegressor(BaseRegressor):\n",
    "    def __init__(self, random_state=None):\n",
    "        self.random_state = random_state\n",
    "        self.X_train = None\n",
    "        self.X_test = None\n",
    "        self.y_train = None\n",
    "        self.y_test = None\n",
    "        self.model = None\n",
    "        self.best_params = None\n",
    "\n",
    "    def find(\n",
    "            self,\n",
    "            X_train=None,\n",
    "            y_train=None,\n",
    "            data=None,\n",
    "            target=None,\n",
    "            param_grid=[{'n_estimators': [10, 50, 100], 'min_samples_split': [2, 5, 10, 25, 50]}]\n",
    "    ):\n",
    "        if isinstance(data, pd.DataFrame) and isinstance(target, str):\n",
    "            X_train, X_test, y_train, y_test = prepare(data, target, random_state=self.random_state)\n",
    "\n",
    "            # save sets\n",
    "            self.X_train = X_train\n",
    "            self.X_test = X_test\n",
    "            self.y_train = y_train\n",
    "            self.y_test = y_test\n",
    "        elif X_train is None or y_train is None:\n",
    "            raise ValueError('Please pass in either your data and target feature or training set and target')\n",
    "        else:\n",
    "            # temporarily save sets\n",
    "            self.X_train = X_train\n",
    "            self.y_train = y_train\n",
    "\n",
    "        grid = GridSearchCV(RandomForestRegressor(), param_grid)\n",
    "        grid.fit(self.X_train, self.y_train.values.ravel())\n",
    "\n",
    "        optimal_split = grid.best_params_['min_samples_split']\n",
    "        optimal_estimators = grid.best_params_['n_estimators']\n",
    "\n",
    "        self.model = RandomForestRegressor(n_estimators=optimal_estimators, min_samples_split=optimal_split, random_state=self.random_state)\n",
    "        self.model.fit(self.X_train, self.y_train.values.ravel())\n",
    "\n",
    "        self.best_params = grid.best_params_\n",
    "\n",
    "        if self.y_test is None:\n",
    "            self.X_train, self.y_train = (None, None)\n",
    "\n",
    "        return self.model\n"
   ]
  },
  {
   "cell_type": "code",
   "execution_count": 274,
   "metadata": {},
   "outputs": [],
   "source": [
    "class BaseBoa:\n",
    "    def hunt(self, data=None, X_train=None, X_test=None, y_train=None, y_test=None, target=None, digest=True):\n",
    "        pass\n",
    "    \n",
    "    "
   ]
  },
  {
   "cell_type": "code",
   "execution_count": 880,
   "metadata": {},
   "outputs": [],
   "source": [
    "class BaseBoa:\n",
    "    \n",
    "    NUM_REGRESSION_MODELS_SUPPORTED = 5\n",
    "    \n",
    "    reg_model_index = {0: 'dtree', \n",
    "                       1: 'knn', \n",
    "                       2: 'linreg', \n",
    "                       3: 'linsvr', \n",
    "                       4: 'rforest',\n",
    "                       }\n",
    "    \n",
    "    def __repr__(self):\n",
    "        return type(self).__name__ # finish implementation!!!\n",
    "    \n",
    "    \n",
    "    def __len__(self):\n",
    "        return len(self.ladder)\n",
    "\n",
    "    \n",
    "    def ladder(self):\n",
    "        return self.ladder\n",
    "    \n",
    "    \n",
    "    def optimal_model(self, rank=0):\n",
    "        return self.ladder[rank][0]\n",
    "    \n",
    "    \n",
    "    def model(self, rank=0):\n",
    "        return self.ladder[rank][0].model\n",
    "    \n",
    "    \n",
    "    def model_score(self, rank=0):\n",
    "        return self.ladder[rank][1]\n",
    "    \n",
    "       \n",
    "    def get_sets(self, rank=0, save=False):\n",
    "        return self.ladder[rank][0].get_sets(save=save)\n",
    "    \n",
    "\n",
    "\n",
    "class RegressionBoa(BaseBoa):\n",
    "    \n",
    "    def __init__(self, random_state=None):\n",
    "        self.random_state = random_state\n",
    "        self.ladder = []\n",
    "    \n",
    "    \n",
    "    def hunt(self, X_train=None, X_test=None, y_train=None, y_test=None, data=None, target=None):\n",
    "        for i in range(BaseBoa.NUM_REGRESSION_MODELS_SUPPORTED):\n",
    "            model_key = BaseBoa.reg_model_index[i]\n",
    "            optimal_model = self.find_optimal(regressor=model_key, X_train=X_train, y_train=y_train, data=data, target=target)\n",
    "            \n",
    "            if X_test is not None and y_test is not None:\n",
    "                score = optimal_model.score(X_test, y_test)\n",
    "            else:\n",
    "                score = optimal_model.score()\n",
    "                \n",
    "            self.ladder.append((optimal_model, score))\n",
    "            \n",
    "        self.ladder.sort(key=lambda tup: tup[1], reverse=True)\n",
    "        \n",
    "        return self.ladder\n",
    "    \n",
    "    \n",
    "    def find_optimal(self, regressor, X_train=None, y_train=None, data=None, target=None):\n",
    "        if regressor == 'dtree':\n",
    "            model = self.find_optimal_dtree(X_train=X_train, y_train=y_train, data=data, target=target)\n",
    "        elif regressor == 'knn':\n",
    "            model = self.find_optimal_knn(X_train=X_train, y_train=y_train, data=data, target=target)\n",
    "        elif regressor == 'linreg':\n",
    "            model = self.find_optimal_linreg(X_train=X_train, y_train=y_train, data=data, target=target)\n",
    "        elif regressor == 'linsvr':\n",
    "            model = self.find_optimal_linsvr(X_train=X_train, y_train=y_train, data=data, target=target)\n",
    "        elif regressor == 'rforest':\n",
    "            model = self.find_optimal_rforest(X_train=X_train, y_train=y_train, data=data, target=target)\n",
    "        else:\n",
    "            raise ValueError('Requested regressor not found. Please choose either \\'dtree\\' or \\'knn\\' or \\'linreg\\' or \\'linsvr\\' or \\'rforest\\'')\n",
    "            # change statement above\n",
    "            \n",
    "        return model\n",
    "    \n",
    "    \n",
    "    def find_optimal_dtree(self, X_train=None, y_train=None, data=None, target=None):\n",
    "        optimal_dtree = OptimalDTreeRegressor(self.random_state)\n",
    "        optimal_dtree.find(X_train=X_train, y_train=y_train, data=data, target=target)\n",
    "        \n",
    "        return optimal_dtree\n",
    "    \n",
    "    \n",
    "    def find_optimal_knn(self, X_train=None, y_train=None, data=None, target=None):\n",
    "        optimal_knn = OptimalKNRegressor(self.random_state)\n",
    "        optimal_knn.find(X_train=X_train, y_train=y_train, data=data, target=target)\n",
    "        \n",
    "        return optimal_knn\n",
    "    \n",
    "    \n",
    "    def find_optimal_linreg(self, X_train=None, y_train=None, data=None, target=None):\n",
    "        optimal_linreg = OptimalLinearRegression(self.random_state)\n",
    "        optimal_linreg.find(X_train=X_train, y_train=y_train, data=data, target=target)\n",
    "        \n",
    "        return optimal_linreg\n",
    "    \n",
    "    \n",
    "    def find_optimal_linsvr(self, X_train=None, y_train=None, data=None, target=None):\n",
    "        optimal_linsvr = OptimalLinearSVR(self.random_state)\n",
    "        optimal_linsvr.find(X_train=X_train, y_train=y_train, data=data, target=target)\n",
    "        \n",
    "        return optimal_linsvr\n",
    "    \n",
    "    \n",
    "    def find_optimal_rforest(self, X_train=None, y_train=None, data=None, target=None):\n",
    "        optimal_rforest = OptimalRFRegressor(self.random_state)\n",
    "        optimal_rforest.find(X_train=X_train, y_train=y_train, data=data, target=target)\n",
    "        \n",
    "        return optimal_rforest\n",
    "    \n",
    "    \n",
    "    "
   ]
  },
  {
   "cell_type": "code",
   "execution_count": 881,
   "metadata": {},
   "outputs": [
    {
     "data": {
      "text/plain": [
       "[(OptimalRFRegressor, 0.9626985917160836),\n",
       " (OptimalKNRegressor, 0.9511411883559433),\n",
       " (OptimalDTreeRegressor, 0.94945655345777),\n",
       " (OptimalLinearRegression, 0.8876961846248463),\n",
       " (OptimalLinearSVR, 0.8383624775592265)]"
      ]
     },
     "execution_count": 881,
     "metadata": {},
     "output_type": "execute_result"
    }
   ],
   "source": [
    "rboa = RegressionBoa(3)\n",
    "rboa.hunt(data=audi, target='price')"
   ]
  },
  {
   "cell_type": "code",
   "execution_count": 882,
   "metadata": {},
   "outputs": [
    {
     "data": {
      "text/plain": [
       "[(OptimalRFRegressor, 0.9626985917160836),\n",
       " (OptimalKNRegressor, 0.9511411883559433),\n",
       " (OptimalDTreeRegressor, 0.94945655345777),\n",
       " (OptimalLinearRegression, 0.8876961846248463),\n",
       " (OptimalLinearSVR, 0.8383624775592265)]"
      ]
     },
     "execution_count": 882,
     "metadata": {},
     "output_type": "execute_result"
    }
   ],
   "source": [
    "rboa.ladder"
   ]
  },
  {
   "cell_type": "code",
   "execution_count": 883,
   "metadata": {},
   "outputs": [
    {
     "data": {
      "text/plain": [
       "RandomForestRegressor(min_samples_split=5, random_state=3)"
      ]
     },
     "execution_count": 883,
     "metadata": {},
     "output_type": "execute_result"
    }
   ],
   "source": [
    "rboa.model()"
   ]
  },
  {
   "cell_type": "code",
   "execution_count": 884,
   "metadata": {},
   "outputs": [
    {
     "data": {
      "text/plain": [
       "0.9511411883559433"
      ]
     },
     "execution_count": 884,
     "metadata": {},
     "output_type": "execute_result"
    }
   ],
   "source": [
    "rboa.model_score(1)"
   ]
  },
  {
   "cell_type": "code",
   "execution_count": 877,
   "metadata": {},
   "outputs": [],
   "source": [
    "X_train, X_test, y_train, y_test = rboa.get_sets(4)"
   ]
  },
  {
   "cell_type": "code",
   "execution_count": 878,
   "metadata": {},
   "outputs": [
    {
     "data": {
      "text/html": [
       "<div>\n",
       "<style scoped>\n",
       "    .dataframe tbody tr th:only-of-type {\n",
       "        vertical-align: middle;\n",
       "    }\n",
       "\n",
       "    .dataframe tbody tr th {\n",
       "        vertical-align: top;\n",
       "    }\n",
       "\n",
       "    .dataframe thead th {\n",
       "        text-align: right;\n",
       "    }\n",
       "</style>\n",
       "<table border=\"1\" class=\"dataframe\">\n",
       "  <thead>\n",
       "    <tr style=\"text-align: right;\">\n",
       "      <th></th>\n",
       "      <th>year</th>\n",
       "      <th>mileage</th>\n",
       "      <th>tax</th>\n",
       "      <th>mpg</th>\n",
       "      <th>engineSize</th>\n",
       "      <th>model_ A2</th>\n",
       "      <th>model_ A3</th>\n",
       "      <th>model_ A4</th>\n",
       "      <th>model_ A5</th>\n",
       "      <th>model_ A6</th>\n",
       "      <th>...</th>\n",
       "      <th>model_ S4</th>\n",
       "      <th>model_ S5</th>\n",
       "      <th>model_ S8</th>\n",
       "      <th>model_ SQ5</th>\n",
       "      <th>model_ SQ7</th>\n",
       "      <th>model_ TT</th>\n",
       "      <th>transmission_Manual</th>\n",
       "      <th>transmission_Semi-Auto</th>\n",
       "      <th>fuelType_Hybrid</th>\n",
       "      <th>fuelType_Petrol</th>\n",
       "    </tr>\n",
       "  </thead>\n",
       "  <tbody>\n",
       "    <tr>\n",
       "      <th>0</th>\n",
       "      <td>-0.666667</td>\n",
       "      <td>0.913804</td>\n",
       "      <td>0.00</td>\n",
       "      <td>0.150000</td>\n",
       "      <td>0.0</td>\n",
       "      <td>0.0</td>\n",
       "      <td>0.0</td>\n",
       "      <td>0.0</td>\n",
       "      <td>0.0</td>\n",
       "      <td>0.0</td>\n",
       "      <td>...</td>\n",
       "      <td>0.0</td>\n",
       "      <td>0.0</td>\n",
       "      <td>0.0</td>\n",
       "      <td>0.0</td>\n",
       "      <td>0.0</td>\n",
       "      <td>0.0</td>\n",
       "      <td>1.0</td>\n",
       "      <td>0.0</td>\n",
       "      <td>0.0</td>\n",
       "      <td>0.0</td>\n",
       "    </tr>\n",
       "    <tr>\n",
       "      <th>1</th>\n",
       "      <td>-0.333333</td>\n",
       "      <td>-0.198624</td>\n",
       "      <td>-7.25</td>\n",
       "      <td>0.983333</td>\n",
       "      <td>-2.0</td>\n",
       "      <td>0.0</td>\n",
       "      <td>0.0</td>\n",
       "      <td>0.0</td>\n",
       "      <td>0.0</td>\n",
       "      <td>0.0</td>\n",
       "      <td>...</td>\n",
       "      <td>0.0</td>\n",
       "      <td>0.0</td>\n",
       "      <td>0.0</td>\n",
       "      <td>0.0</td>\n",
       "      <td>0.0</td>\n",
       "      <td>0.0</td>\n",
       "      <td>1.0</td>\n",
       "      <td>0.0</td>\n",
       "      <td>0.0</td>\n",
       "      <td>1.0</td>\n",
       "    </tr>\n",
       "    <tr>\n",
       "      <th>2</th>\n",
       "      <td>0.666667</td>\n",
       "      <td>-0.448005</td>\n",
       "      <td>0.00</td>\n",
       "      <td>-0.483333</td>\n",
       "      <td>0.0</td>\n",
       "      <td>0.0</td>\n",
       "      <td>0.0</td>\n",
       "      <td>0.0</td>\n",
       "      <td>0.0</td>\n",
       "      <td>0.0</td>\n",
       "      <td>...</td>\n",
       "      <td>0.0</td>\n",
       "      <td>0.0</td>\n",
       "      <td>0.0</td>\n",
       "      <td>0.0</td>\n",
       "      <td>0.0</td>\n",
       "      <td>0.0</td>\n",
       "      <td>0.0</td>\n",
       "      <td>1.0</td>\n",
       "      <td>0.0</td>\n",
       "      <td>1.0</td>\n",
       "    </tr>\n",
       "    <tr>\n",
       "      <th>3</th>\n",
       "      <td>0.666667</td>\n",
       "      <td>-0.397019</td>\n",
       "      <td>0.00</td>\n",
       "      <td>0.100000</td>\n",
       "      <td>-0.8</td>\n",
       "      <td>0.0</td>\n",
       "      <td>1.0</td>\n",
       "      <td>0.0</td>\n",
       "      <td>0.0</td>\n",
       "      <td>0.0</td>\n",
       "      <td>...</td>\n",
       "      <td>0.0</td>\n",
       "      <td>0.0</td>\n",
       "      <td>0.0</td>\n",
       "      <td>0.0</td>\n",
       "      <td>0.0</td>\n",
       "      <td>0.0</td>\n",
       "      <td>1.0</td>\n",
       "      <td>0.0</td>\n",
       "      <td>0.0</td>\n",
       "      <td>0.0</td>\n",
       "    </tr>\n",
       "    <tr>\n",
       "      <th>4</th>\n",
       "      <td>-0.666667</td>\n",
       "      <td>0.566194</td>\n",
       "      <td>-7.25</td>\n",
       "      <td>1.727778</td>\n",
       "      <td>-0.8</td>\n",
       "      <td>0.0</td>\n",
       "      <td>0.0</td>\n",
       "      <td>0.0</td>\n",
       "      <td>0.0</td>\n",
       "      <td>0.0</td>\n",
       "      <td>...</td>\n",
       "      <td>0.0</td>\n",
       "      <td>0.0</td>\n",
       "      <td>0.0</td>\n",
       "      <td>0.0</td>\n",
       "      <td>0.0</td>\n",
       "      <td>0.0</td>\n",
       "      <td>1.0</td>\n",
       "      <td>0.0</td>\n",
       "      <td>0.0</td>\n",
       "      <td>0.0</td>\n",
       "    </tr>\n",
       "  </tbody>\n",
       "</table>\n",
       "<p>5 rows × 34 columns</p>\n",
       "</div>"
      ],
      "text/plain": [
       "       year   mileage   tax       mpg  engineSize  model_ A2  model_ A3  \\\n",
       "0 -0.666667  0.913804  0.00  0.150000         0.0        0.0        0.0   \n",
       "1 -0.333333 -0.198624 -7.25  0.983333        -2.0        0.0        0.0   \n",
       "2  0.666667 -0.448005  0.00 -0.483333         0.0        0.0        0.0   \n",
       "3  0.666667 -0.397019  0.00  0.100000        -0.8        0.0        1.0   \n",
       "4 -0.666667  0.566194 -7.25  1.727778        -0.8        0.0        0.0   \n",
       "\n",
       "   model_ A4  model_ A5  model_ A6  ...  model_ S4  model_ S5  model_ S8  \\\n",
       "0        0.0        0.0        0.0  ...        0.0        0.0        0.0   \n",
       "1        0.0        0.0        0.0  ...        0.0        0.0        0.0   \n",
       "2        0.0        0.0        0.0  ...        0.0        0.0        0.0   \n",
       "3        0.0        0.0        0.0  ...        0.0        0.0        0.0   \n",
       "4        0.0        0.0        0.0  ...        0.0        0.0        0.0   \n",
       "\n",
       "   model_ SQ5  model_ SQ7  model_ TT  transmission_Manual  \\\n",
       "0         0.0         0.0        0.0                  1.0   \n",
       "1         0.0         0.0        0.0                  1.0   \n",
       "2         0.0         0.0        0.0                  0.0   \n",
       "3         0.0         0.0        0.0                  1.0   \n",
       "4         0.0         0.0        0.0                  1.0   \n",
       "\n",
       "   transmission_Semi-Auto  fuelType_Hybrid  fuelType_Petrol  \n",
       "0                     0.0              0.0              0.0  \n",
       "1                     0.0              0.0              1.0  \n",
       "2                     1.0              0.0              1.0  \n",
       "3                     0.0              0.0              0.0  \n",
       "4                     0.0              0.0              0.0  \n",
       "\n",
       "[5 rows x 34 columns]"
      ]
     },
     "execution_count": 878,
     "metadata": {},
     "output_type": "execute_result"
    }
   ],
   "source": [
    "X_train.head()"
   ]
  },
  {
   "cell_type": "code",
   "execution_count": 868,
   "metadata": {},
   "outputs": [
    {
     "data": {
      "text/plain": [
       "'OptimalRFRegressor'"
      ]
     },
     "execution_count": 868,
     "metadata": {},
     "output_type": "execute_result"
    }
   ],
   "source": [
    "str(rboa.ladder[0][0])"
   ]
  },
  {
   "cell_type": "code",
   "execution_count": 683,
   "metadata": {},
   "outputs": [
    {
     "data": {
      "text/plain": [
       "0"
      ]
     },
     "execution_count": 683,
     "metadata": {},
     "output_type": "execute_result"
    }
   ],
   "source": [
    "len([])"
   ]
  },
  {
   "cell_type": "code",
   "execution_count": 666,
   "metadata": {},
   "outputs": [],
   "source": [
    "if None not in (2, None, 4):\n",
    "    print(3)"
   ]
  },
  {
   "cell_type": "code",
   "execution_count": 233,
   "metadata": {},
   "outputs": [],
   "source": [
    "knn = KNeighborsRegressor(n_neighbors=3)"
   ]
  },
  {
   "cell_type": "code",
   "execution_count": 234,
   "metadata": {},
   "outputs": [
    {
     "data": {
      "text/plain": [
       "KNeighborsRegressor(n_neighbors=3)"
      ]
     },
     "execution_count": 234,
     "metadata": {},
     "output_type": "execute_result"
    }
   ],
   "source": [
    "knn.fit(X_train, y_train)"
   ]
  },
  {
   "cell_type": "code",
   "execution_count": 235,
   "metadata": {},
   "outputs": [
    {
     "data": {
      "text/plain": [
       "0.9491092778381446"
      ]
     },
     "execution_count": 235,
     "metadata": {},
     "output_type": "execute_result"
    }
   ],
   "source": [
    "knn.score(X_test, y_test)"
   ]
  },
  {
   "cell_type": "code",
   "execution_count": 250,
   "metadata": {},
   "outputs": [
    {
     "data": {
      "text/plain": [
       "{'algorithm': 'auto',\n",
       " 'leaf_size': 30,\n",
       " 'metric': 'minkowski',\n",
       " 'metric_params': None,\n",
       " 'n_jobs': None,\n",
       " 'n_neighbors': 3,\n",
       " 'p': 2,\n",
       " 'weights': 'uniform'}"
      ]
     },
     "execution_count": 250,
     "metadata": {},
     "output_type": "execute_result"
    }
   ],
   "source": [
    "knn.get_params()"
   ]
  },
  {
   "cell_type": "code",
   "execution_count": 282,
   "metadata": {},
   "outputs": [
    {
     "name": "stdout",
     "output_type": "stream",
     "text": [
      "3\n"
     ]
    }
   ],
   "source": [
    "b = None\n",
    "if not b:\n",
    "    print(3)\n",
    "else:\n",
    "    print(1)"
   ]
  },
  {
   "cell_type": "code",
   "execution_count": 269,
   "metadata": {},
   "outputs": [
    {
     "data": {
      "text/plain": [
       "3"
      ]
     },
     "execution_count": 269,
     "metadata": {},
     "output_type": "execute_result"
    }
   ],
   "source": [
    "def ex():\n",
    "    a = [(3, 'd'), (10, '6')]\n",
    "    return a[0]\n",
    "\n",
    "b, c = ex()\n",
    "b"
   ]
  },
  {
   "cell_type": "code",
   "execution_count": 238,
   "metadata": {},
   "outputs": [
    {
     "data": {
      "text/plain": [
       "1"
      ]
     },
     "execution_count": 238,
     "metadata": {},
     "output_type": "execute_result"
    }
   ],
   "source": [
    "parameters = [{'n_neighbors': [1, 2, 3, 4, 5, 10, 15, 20], 'p': [1, 2]}]\n",
    "grid = GridSearchCV(KNeighborsRegressor(), parameters)\n",
    "grid.fit(X_train, y_train)\n",
    "grid.best_params_['p']"
   ]
  },
  {
   "cell_type": "code",
   "execution_count": 249,
   "metadata": {},
   "outputs": [
    {
     "data": {
      "text/plain": [
       "{'n_neighbors': 3, 'p': 1}"
      ]
     },
     "execution_count": 249,
     "metadata": {},
     "output_type": "execute_result"
    }
   ],
   "source": [
    "grid.best_params_"
   ]
  },
  {
   "cell_type": "code",
   "execution_count": 257,
   "metadata": {},
   "outputs": [
    {
     "data": {
      "text/plain": [
       "['n_neighbors', 'p']"
      ]
     },
     "execution_count": 257,
     "metadata": {},
     "output_type": "execute_result"
    }
   ],
   "source": [
    "list(grid.best_params_.keys())"
   ]
  },
  {
   "cell_type": "code",
   "execution_count": 366,
   "metadata": {},
   "outputs": [],
   "source": [
    "tree = DecisionTreeRegressor(max_depth=None, random_state=3)"
   ]
  },
  {
   "cell_type": "code",
   "execution_count": 367,
   "metadata": {},
   "outputs": [
    {
     "data": {
      "text/plain": [
       "DecisionTreeRegressor(random_state=3)"
      ]
     },
     "execution_count": 367,
     "metadata": {},
     "output_type": "execute_result"
    }
   ],
   "source": [
    "tree.fit(X_train, y_train)"
   ]
  },
  {
   "cell_type": "code",
   "execution_count": 368,
   "metadata": {},
   "outputs": [
    {
     "data": {
      "text/plain": [
       "0.9448573743695495"
      ]
     },
     "execution_count": 368,
     "metadata": {},
     "output_type": "execute_result"
    }
   ],
   "source": [
    "tree.score(X_test, y_test)"
   ]
  },
  {
   "cell_type": "code",
   "execution_count": null,
   "metadata": {},
   "outputs": [],
   "source": []
  },
  {
   "cell_type": "code",
   "execution_count": 369,
   "metadata": {},
   "outputs": [],
   "source": [
    "reg = LinearRegression()"
   ]
  },
  {
   "cell_type": "code",
   "execution_count": 370,
   "metadata": {},
   "outputs": [
    {
     "data": {
      "text/plain": [
       "LinearRegression()"
      ]
     },
     "execution_count": 370,
     "metadata": {},
     "output_type": "execute_result"
    }
   ],
   "source": [
    "reg.fit(X_train, y_train)"
   ]
  },
  {
   "cell_type": "code",
   "execution_count": 371,
   "metadata": {},
   "outputs": [
    {
     "data": {
      "text/plain": [
       "0.8879353446048815"
      ]
     },
     "execution_count": 371,
     "metadata": {},
     "output_type": "execute_result"
    }
   ],
   "source": [
    "reg.score(X_test, y_test)"
   ]
  },
  {
   "cell_type": "code",
   "execution_count": 338,
   "metadata": {},
   "outputs": [],
   "source": [
    "from sklearn.metrics import r2_score"
   ]
  },
  {
   "cell_type": "code",
   "execution_count": 190,
   "metadata": {},
   "outputs": [
    {
     "data": {
      "text/plain": [
       "0.9491092778381445"
      ]
     },
     "execution_count": 190,
     "metadata": {},
     "output_type": "execute_result"
    }
   ],
   "source": [
    "r2_score(y_test, knn.predict(X_test))"
   ]
  },
  {
   "cell_type": "code",
   "execution_count": null,
   "metadata": {},
   "outputs": [],
   "source": []
  }
 ],
 "metadata": {
  "kernelspec": {
   "display_name": "Python 3",
   "language": "python",
   "name": "python3"
  },
  "language_info": {
   "codemirror_mode": {
    "name": "ipython",
    "version": 3
   },
   "file_extension": ".py",
   "mimetype": "text/x-python",
   "name": "python",
   "nbconvert_exporter": "python",
   "pygments_lexer": "ipython3",
   "version": "3.8.3"
  }
 },
 "nbformat": 4,
 "nbformat_minor": 4
}
